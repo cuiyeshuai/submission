{
 "cells": [
  {
   "cell_type": "code",
   "execution_count": 12,
   "metadata": {},
   "outputs": [],
   "source": [
    "import requests\n",
    "api_url = \"https://openprovenance.org/store/api/v0/documents/\"\n",
    "response = requests.get(api_url,params={\"limit\": \"10000\"})\n",
    "res = response.json()\n",
    "ids = []\n",
    "for x in res[\"objects\"]:\n",
    "    ids.append(x[\"id\"])\n",
    "for id in ids:\n",
    "    response = requests.get(api_url+str(id)+\".json\")\n",
    "    data = response.content\n",
    "    with open(\"./openprov/\"+str(id)+\".json\", \"wb\") as f:\n",
    "        f.write(data)"
   ]
  }
 ],
 "metadata": {
  "interpreter": {
   "hash": "31f2aee4e71d21fbe5cf8b01ff0e069b9275f58929596ceb00d14d90e3e16cd6"
  },
  "kernelspec": {
   "display_name": "Python 3.8.9 64-bit",
   "language": "python",
   "name": "python3"
  },
  "language_info": {
   "codemirror_mode": {
    "name": "ipython",
    "version": 3
   },
   "file_extension": ".py",
   "mimetype": "text/x-python",
   "name": "python",
   "nbconvert_exporter": "python",
   "pygments_lexer": "ipython3",
   "version": "3.8.9"
  },
  "orig_nbformat": 4
 },
 "nbformat": 4,
 "nbformat_minor": 2
}
