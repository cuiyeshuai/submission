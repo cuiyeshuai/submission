{
 "cells": [
  {
   "cell_type": "code",
   "execution_count": 9,
   "metadata": {},
   "outputs": [],
   "source": [
    "from functions import *\n",
    "import collections\n",
    "import os\n",
    "import time\n",
    "forward = False\n",
    "iri = False\n",
    "specific_types_edge = False\n",
    "specific_types_node = False\n",
    "level = 4\n",
    "\n",
    "qualified_names = {\n",
    "    \"xsd:QName\",\n",
    "    \"prov:QUALIFIED_NAME\"\n",
    "}\n",
    "path_to_json = '/Users/cuiyeshuai/Documents/UG modules/submission/datasets/CM-Buildings/'\n",
    "json_file = '/Users/cuiyeshuai/Documents/UG modules/submission/datasets/CM-Buildings/Building729.0.json'"
   ]
  },
  {
   "cell_type": "code",
   "execution_count": 10,
   "metadata": {},
   "outputs": [
    {
     "ename": "TypeError",
     "evalue": "type_generate_R() got an unexpected keyword argument 'specific_types_node'",
     "output_type": "error",
     "traceback": [
      "\u001b[0;31m---------------------------------------------------------------------------\u001b[0m",
      "\u001b[0;31mTypeError\u001b[0m                                 Traceback (most recent call last)",
      "\u001b[1;32m/Users/cuiyeshuai/Documents/UG modules/submission/time.ipynb Cell 2'\u001b[0m in \u001b[0;36m<module>\u001b[0;34m\u001b[0m\n\u001b[1;32m      <a href='vscode-notebook-cell:/Users/cuiyeshuai/Documents/UG%20modules/submission/time.ipynb#ch0000005?line=5'>6</a>\u001b[0m             prov \u001b[39m=\u001b[39m json_to_encoding(data, iri \u001b[39m=\u001b[39m iri, forward \u001b[39m=\u001b[39m \u001b[39mTrue\u001b[39;00m, qualified_names \u001b[39m=\u001b[39m qualified_names)\n\u001b[1;32m      <a href='vscode-notebook-cell:/Users/cuiyeshuai/Documents/UG%20modules/submission/time.ipynb#ch0000005?line=6'>7</a>\u001b[0m             start \u001b[39m=\u001b[39m time\u001b[39m.\u001b[39mtime()\n\u001b[0;32m----> <a href='vscode-notebook-cell:/Users/cuiyeshuai/Documents/UG%20modules/submission/time.ipynb#ch0000005?line=7'>8</a>\u001b[0m             prov_type \u001b[39m=\u001b[39m type_generate_R(prov, level \u001b[39m=\u001b[39;49m \u001b[39m5\u001b[39;49m, specific_labels_edge \u001b[39m=\u001b[39;49m \u001b[39mTrue\u001b[39;49;00m, specific_types_node \u001b[39m=\u001b[39;49m \u001b[39mTrue\u001b[39;49;00m)\n\u001b[1;32m      <a href='vscode-notebook-cell:/Users/cuiyeshuai/Documents/UG%20modules/submission/time.ipynb#ch0000005?line=8'>9</a>\u001b[0m end1 \u001b[39m=\u001b[39m time\u001b[39m.\u001b[39mtime()\u001b[39m-\u001b[39mstart\n\u001b[1;32m     <a href='vscode-notebook-cell:/Users/cuiyeshuai/Documents/UG%20modules/submission/time.ipynb#ch0000005?line=9'>10</a>\u001b[0m start \u001b[39m=\u001b[39m time\u001b[39m.\u001b[39mtime()\n",
      "\u001b[0;31mTypeError\u001b[0m: type_generate_R() got an unexpected keyword argument 'specific_types_node'"
     ]
    }
   ],
   "source": [
    "start = time.time()\n",
    "for i in range(20):\n",
    "    for file_name in [file for file in os.listdir(path_to_json) if file.endswith('.json')]:\n",
    "        with open(path_to_json + file_name) as json_file:\n",
    "            data = json_file.read()\n",
    "            prov = json_to_encoding(data, iri = iri, forward = True, qualified_names = qualified_names)\n",
    "            start = time.time()\n",
    "            prov_type = type_generate_R(prov, level = 5, specific_labels_edge = True, specific_labels_node = True)\n",
    "end1 = time.time()-start\n",
    "start = time.time()\n",
    "for i in range(20):\n",
    "    for file_name in [file for file in os.listdir(path_to_json) if file.endswith('.json')]:\n",
    "        with open(path_to_json + file_name) as json_file:\n",
    "            data = json_file.read()\n",
    "            prov = json_to_encoding(data, iri = iri, forward = False, qualified_names = qualified_names)\n",
    "            prov_type = type_generate_R(prov, level = 5, specific_labels_edge = True, specific_labels_node = True)\n",
    "            #print(type_generate(prov, 5, True, True))\n",
    "end2 = time.time()-start\n",
    "print(end1,end2)"
   ]
  },
  {
   "cell_type": "code",
   "execution_count": 7,
   "metadata": {},
   "outputs": [
    {
     "name": "stdout",
     "output_type": "stream",
     "text": [
      "0.8493969440460205\n",
      "0 True True\n",
      "0.8647959232330322\n",
      "0 True False\n",
      "0.826002836227417\n",
      "0 False True\n",
      "0.8186228275299072\n",
      "0 False False\n",
      "2.0705602169036865\n",
      "1 True True\n",
      "2.0691049098968506\n",
      "1 True False\n",
      "2.0541090965270996\n",
      "1 False True\n",
      "2.0783638954162598\n",
      "1 False False\n",
      "3.314814329147339\n",
      "2 True True\n",
      "3.2521681785583496\n",
      "2 True False\n",
      "3.2169692516326904\n",
      "2 False True\n",
      "3.18678617477417\n",
      "2 False False\n",
      "4.862285137176514\n",
      "3 True True\n",
      "4.655514240264893\n",
      "3 True False\n",
      "4.646287679672241\n",
      "3 False True\n",
      "4.441190958023071\n",
      "3 False False\n",
      "6.156523942947388\n",
      "4 True True\n",
      "6.013778209686279\n",
      "4 True False\n",
      "5.926603078842163\n",
      "4 False True\n",
      "5.732970952987671\n",
      "4 False False\n",
      "7.52435564994812\n",
      "5 True True\n",
      "7.281567096710205\n",
      "5 True False\n",
      "7.307100296020508\n",
      "5 False True\n",
      "7.04549765586853\n",
      "5 False False\n",
      "9.22166395187378\n",
      "6 True True\n",
      "8.98243522644043\n",
      "6 True False\n",
      "8.878909349441528\n",
      "6 False True\n",
      "8.593899011611938\n",
      "6 False False\n",
      "defaultdict(<function <lambda> at 0x1072d8820>, {0: defaultdict(<class 'dict'>, {True: {True: 0.8493928909301758, False: 0.8647937774658203}, False: {True: 0.8259987831115723, False: 0.8186209201812744}}), 1: defaultdict(<class 'dict'>, {True: {True: 2.0705549716949463, False: 2.0691030025482178}, False: {True: 2.0541062355041504, False: 2.078362226486206}}), 2: defaultdict(<class 'dict'>, {True: {True: 3.3148081302642822, False: 3.252167224884033}, False: {True: 3.2169649600982666, False: 3.186784029006958}}), 3: defaultdict(<class 'dict'>, {True: {True: 4.86228084564209, False: 4.655512094497681}, False: {True: 4.646285057067871, False: 4.441188812255859}}), 4: defaultdict(<class 'dict'>, {True: {True: 6.156518936157227, False: 6.013777017593384}, False: {True: 5.9265971183776855, False: 5.7329699993133545}}), 5: defaultdict(<class 'dict'>, {True: {True: 7.524349927902222, False: 7.281564950942993}, False: {True: 7.3070971965789795, False: 7.045496702194214}}), 6: defaultdict(<class 'dict'>, {True: {True: 9.221657752990723, False: 8.982433080673218}, False: {True: 8.878905296325684, False: 8.593897104263306}})})\n"
     ]
    }
   ],
   "source": [
    "map = collections.defaultdict(lambda: collections.defaultdict(dict))\n",
    "for level in range(7):\n",
    "    for specific_labels_edge in [True, False]:\n",
    "        for specific_labels_node in [True, False]:\n",
    "            start = time.time()\n",
    "            for file_name in [file for file in os.listdir(path_to_json) if file.endswith('.json')]:\n",
    "                with open(path_to_json + file_name) as json_file:\n",
    "                    data = json_file.read()\n",
    "                    prov = json_to_encoding(data, iri = iri, forward = forward, qualified_names = qualified_names)\n",
    "                    for i in range(10):\n",
    "                        prov_type = type_generate_R(prov, level = level, specific_labels_node = specific_labels_node, specific_labels_edge= specific_labels_edge)\n",
    "            map[level][specific_labels_edge][specific_labels_node] = time.time() - start\n",
    "            print(time.time() - start)\n",
    "            print(level, specific_labels_edge, specific_labels_node)\n",
    "print(map)"
   ]
  },
  {
   "cell_type": "code",
   "execution_count": 8,
   "metadata": {},
   "outputs": [
    {
     "name": "stdout",
     "output_type": "stream",
     "text": [
      "[0.8186209201812744, 0.8259987831115723, 0.8647937774658203, 0.8493928909301758]\n",
      "[2.078362226486206, 2.0541062355041504, 2.0691030025482178, 2.0705549716949463]\n",
      "[3.186784029006958, 3.2169649600982666, 3.252167224884033, 3.3148081302642822]\n",
      "[4.441188812255859, 4.646285057067871, 4.655512094497681, 4.86228084564209]\n",
      "[5.7329699993133545, 5.9265971183776855, 6.013777017593384, 6.156518936157227]\n",
      "[7.045496702194214, 7.3070971965789795, 7.281564950942993, 7.524349927902222]\n",
      "[8.593897104263306, 8.878905296325684, 8.982433080673218, 9.221657752990723]\n"
     ]
    }
   ],
   "source": [
    "for i in range (7):\n",
    "    list = []\n",
    "    for j in range(2):\n",
    "        for k in range(2):\n",
    "            list.append(map[i][j][k])\n",
    "    print(list)"
   ]
  },
  {
   "cell_type": "code",
   "execution_count": null,
   "metadata": {},
   "outputs": [],
   "source": [
    "start = time.time()\n",
    "for i in range(20):\n",
    "    for file_name in [file for file in os.listdir(path_to_json) if file.endswith('.json')]:\n",
    "        with open(path_to_json + file_name) as json_file:\n",
    "            data = json_file.read()\n",
    "            #prov = document_to_encoding(ProvDocument.deserialize(content=data), iri = iri, forward = forward)\n",
    "            prov = json_to_encoding(data, iri = iri, forward = forward, qualified_names = qualified_names)\n",
    "            #print(type_generate(prov, 5, True, True))\n",
    "end1 = time.time()-start\n",
    "start = time.time()\n",
    "for i in range(20):\n",
    "    for file_name in [file for file in os.listdir(path_to_json) if file.endswith('.json')]:\n",
    "        with open(path_to_json + file_name) as json_file:\n",
    "            data = json_file.read()\n",
    "            prov = document_to_encoding(ProvDocument.deserialize(content=data), iri = iri, forward = forward)\n",
    "            #print(type_generate(prov, 5, True, True))\n",
    "end2 = time.time()-start\n",
    "print(end1,end2)"
   ]
  }
 ],
 "metadata": {
  "interpreter": {
   "hash": "31f2aee4e71d21fbe5cf8b01ff0e069b9275f58929596ceb00d14d90e3e16cd6"
  },
  "kernelspec": {
   "display_name": "Python 3.8.9 64-bit",
   "language": "python",
   "name": "python3"
  },
  "language_info": {
   "codemirror_mode": {
    "name": "ipython",
    "version": 3
   },
   "file_extension": ".py",
   "mimetype": "text/x-python",
   "name": "python",
   "nbconvert_exporter": "python",
   "pygments_lexer": "ipython3",
   "version": "3.8.9"
  },
  "orig_nbformat": 4
 },
 "nbformat": 4,
 "nbformat_minor": 2
}
