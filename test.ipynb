{
 "cells": [
  {
   "cell_type": "code",
   "execution_count": 1,
   "metadata": {},
   "outputs": [],
   "source": [
    "from functions import *\n",
    "import os\n",
    "import unittest\n",
    "forward = True\n",
    "iri = False\n",
    "qualified_name = {\n",
    "    \"xsd:QName\",\n",
    "    \"prov:QUALIFIED_NAME\"\n",
    "}\n",
    "path_to_json = '/Users/cuiyeshuai/Documents/UG modules/submission/openprov/'\n",
    "json_file = '/Users/cuiyeshuai/Documents/UG modules/submission/datasets/CM-Buildings/Building729.0.json'"
   ]
  },
  {
   "cell_type": "code",
   "execution_count": null,
   "metadata": {},
   "outputs": [],
   "source": [
    "f = open(json_file, 'r')\n",
    "data = f.read()\n",
    "f.close()\n",
    "prov = ProvDocument()\n",
    "#prov = document_to_encoding(ProvDocument.deserialize(json_file), iri = iri, forward = forward)\n",
    "prov = json_to_encoding(data, iri = iri, forward = forward, qualified_name = qualified_name)\n",
    "print(prov)"
   ]
  },
  {
   "cell_type": "code",
   "execution_count": null,
   "metadata": {},
   "outputs": [],
   "source": [
    "for file_name in [file for file in os.listdir(path_to_json) if file.endswith('.json')]:\n",
    "    with open(path_to_json + file_name) as json_file:\n",
    "      print(file_name)  \n",
    "      data = json_file.read()\n",
    "      prov = document_to_encoding(ProvDocument.deserialize(content=data), iri = iri, forward = forward)\n",
    "      prov1 = json_to_encoding(data, iri = iri, forward = forward, qualified_name = qualified_name)\n",
    "      print(prov)"
   ]
  },
  {
   "cell_type": "code",
   "execution_count": 39,
   "metadata": {},
   "outputs": [],
   "source": [
    "class TestFunctions(unittest.TestCase):\n",
    "    def test_node_and_edge_number(self):\n",
    "        f = open(json_file, 'r')\n",
    "        data = f.read()\n",
    "        f.close()\n",
    "        prov_encoding = json_to_encoding(data, iri = iri, forward = forward, qualified_name = qualified_name)\n",
    "        node_number = len(list(prov_encoding[0].keys()))\n",
    "        edge_number = 0\n",
    "        for start in prov_encoding[1]:\n",
    "            for end in prov_encoding[1][start]:\n",
    "                edge_number += 1\n",
    "        file = json.decoder.JSONDecoder().decode(data)\n",
    "        node_number_file = 0\n",
    "        edge_number_file = 0\n",
    "        for rec_type in PROV_NODE:\n",
    "            if file.get(rec_type) is not None:\n",
    "                for x in file.get(rec_type):\n",
    "                    node_number_file += 1\n",
    "        for rec_type in PROV_EDGE:\n",
    "            if file.get(rec_type) is not None:\n",
    "                for x in file.get(rec_type):\n",
    "                    edge_number_file += 1\n",
    "        self.assertEqual(node_number, node_number_file)\n",
    "        self.assertEqual(edge_number, edge_number_file)\n",
    "    \n",
    "    def test_node_label(self):\n",
    "        f = open(json_file, 'r')\n",
    "        data = f.read()\n",
    "        f.close()\n",
    "        prov_encoding = json_to_encoding(data, iri = iri, forward = forward, qualified_name = qualified_name)\n",
    "        self.assertEqual(prov_encoding[0][\"BuildingVerification463\"][0], \"activity\")\n",
    "        self.assertEqual(prov_encoding[0][\"BuildingVerification463\"][1], frozenset([\"collabmap:BuildingVerification\"]))\n",
    "        self.assertEqual(prov_encoding[1][\"BuildingVerification463\"][0], \"used\")\n",
    "    \n",
    "    def test_equal_encoding(self):\n",
    "        f = open(json_file, 'r')\n",
    "        data = f.read()\n",
    "        f.close()\n",
    "        prov = ProvDocument()\n",
    "        prov = document_to_encoding(ProvDocument.deserialize(json_file), iri = iri, forward = forward)\n",
    "        prov1 = json_to_encoding(data, iri = iri, forward = forward, qualified_name = qualified_name)\n",
    "        self.assertEqual(prov, prov1)\n",
    "    # def test_equal_encoding_all(self):\n",
    "    #     for file_name in [file for file in os.listdir(path_to_json) if file.endswith('0.json')]:\n",
    "    #         with open(path_to_json + file_name) as json_file:              \n",
    "    #             data = json_file.read()\n",
    "    #             prov = document_to_encoding(ProvDocument.deserialize(content=data), iri = iri, forward = forward)\n",
    "    #             prov1 = json_to_encoding(data, iri = iri, forward = forward, qualified_name = qualified_name)\n",
    "    #             with self.subTest(prov = prov, prov1 = prov1):\n",
    "    #                 self.assertEqual(prov, prov1)\n",
    "    "
   ]
  },
  {
   "cell_type": "code",
   "execution_count": 40,
   "metadata": {},
   "outputs": [
    {
     "name": "stderr",
     "output_type": "stream",
     "text": [
      "test_equal_encoding (__main__.TestFunctions) ... ok\n",
      "test_node_and_edge_number (__main__.TestFunctions) ... ok\n",
      "test_node_label (__main__.TestFunctions) ... FAIL\n",
      "\n",
      "======================================================================\n",
      "FAIL: test_node_label (__main__.TestFunctions)\n",
      "----------------------------------------------------------------------\n",
      "Traceback (most recent call last):\n",
      "  File \"/var/folders/kk/6809ldm97b5c5tnp1p0hcql00000gn/T/ipykernel_89523/3120841511.py\", line 33, in test_node_label\n",
      "    self.assertEqual(prov_encoding[1][\"BuildingVerification463\"][0], \"used\")\n",
      "AssertionError: ('Building729.0', ('used', frozenset())) != 'used'\n",
      "\n",
      "----------------------------------------------------------------------\n",
      "Ran 3 tests in 0.008s\n",
      "\n",
      "FAILED (failures=1)\n"
     ]
    },
    {
     "data": {
      "text/plain": [
       "<unittest.main.TestProgram at 0x125597460>"
      ]
     },
     "execution_count": 40,
     "metadata": {},
     "output_type": "execute_result"
    }
   ],
   "source": [
    "unittest.main(argv=[''], exit=False,verbosity=2)"
   ]
  },
  {
   "cell_type": "code",
   "execution_count": null,
   "metadata": {},
   "outputs": [],
   "source": []
  }
 ],
 "metadata": {
  "interpreter": {
   "hash": "31f2aee4e71d21fbe5cf8b01ff0e069b9275f58929596ceb00d14d90e3e16cd6"
  },
  "kernelspec": {
   "display_name": "Python 3.8.9 64-bit",
   "language": "python",
   "name": "python3"
  },
  "language_info": {
   "codemirror_mode": {
    "name": "ipython",
    "version": 3
   },
   "file_extension": ".py",
   "mimetype": "text/x-python",
   "name": "python",
   "nbconvert_exporter": "python",
   "pygments_lexer": "ipython3",
   "version": "3.8.9"
  },
  "orig_nbformat": 4
 },
 "nbformat": 4,
 "nbformat_minor": 2
}
