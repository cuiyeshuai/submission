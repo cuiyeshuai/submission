{
 "cells": [
  {
   "cell_type": "code",
   "execution_count": 1,
   "metadata": {},
   "outputs": [],
   "source": [
    "# PySpark \n",
    "from pyspark.sql import SparkSession\n",
    "from pyspark.sql.types import DoubleType\n",
    "from pyspark.conf import SparkConf\n",
    "from pyspark.context import SparkContext\n",
    "# functions\n",
    "from functions import *\n",
    "import time\n",
    "# ML\n",
    "from pyspark.ml.linalg import Vectors\n",
    "from pyspark.ml import Pipeline\n",
    "from pyspark.ml.classification import LinearSVC, RandomForestClassifier, GBTClassifier, LogisticRegression\n",
    "from pyspark.ml.evaluation import BinaryClassificationEvaluator, MulticlassClassificationEvaluator\n",
    "from pyspark.ml.tuning import ParamGridBuilder, CrossValidator\n",
    "from pyspark.mllib.evaluation import MulticlassMetrics\n",
    "from pyspark.ml.feature import StandardScaler\n"
   ]
  },
  {
   "cell_type": "code",
   "execution_count": 2,
   "metadata": {},
   "outputs": [
    {
     "name": "stderr",
     "output_type": "stream",
     "text": [
      "22/04/06 21:58:22 WARN Utils: Your hostname, cuiyeshuaideMacBook-Pro.local resolves to a loopback address: 127.0.0.1; using 192.168.31.122 instead (on interface en0)\n",
      "22/04/06 21:58:22 WARN Utils: Set SPARK_LOCAL_IP if you need to bind to another address\n",
      "Using Spark's default log4j profile: org/apache/spark/log4j-defaults.properties\n",
      "Setting default log level to \"WARN\".\n",
      "To adjust logging level use sc.setLogLevel(newLevel). For SparkR, use setLogLevel(newLevel).\n",
      "22/04/06 21:58:22 WARN NativeCodeLoader: Unable to load native-hadoop library for your platform... using builtin-java classes where applicable\n",
      "22/04/06 21:58:23 WARN Utils: Service 'SparkUI' could not bind on port 4040. Attempting port 4041.\n"
     ]
    }
   ],
   "source": [
    "conf = SparkConf().setAppName(\"spark\").setMaster(\"local[*,20]\").set(\"spark.driver.memory\", \"10g\")\n",
    "sc = SparkContext(conf=conf)\n",
    "spark = SparkSession(sc)\n",
    "iri = False\n",
    "forward = False\n",
    "qualified_names = {\n",
    "    \"xsd:QName\",\n",
    "    \"prov:QUALIFIED_NAME\"\n",
    "}\n",
    "label_map = {\n",
    "    \"Valor\": 0.0,\n",
    "    \"Instinct\": 1.0,\n",
    "    \"Mystic\": 2.0\n",
    "}\n"
   ]
  },
  {
   "cell_type": "code",
   "execution_count": 3,
   "metadata": {},
   "outputs": [],
   "source": [
    "def giao():\n",
    "    file_and_path_rdd = spark.sparkContext.wholeTextFiles(json_folder)\n",
    "    \n",
    "    encoding_rdd = file_and_path_rdd.map(lambda x: (x[0].split(\"/\")[-1], json_to_encoding(x[1],iri,forward,qualified_names)))\n",
    "    # (file_name, prov_types of nodes)\n",
    "    if forward:\n",
    "        types_rdd = encoding_rdd.map(lambda x: (x[0], type_generate(x[1], level, specific_types_node, specific_types_edge)))\n",
    "        # types_rdd = encoding_rdd.map(lambda x: (x[0], type_generate_mixed(x[1], level, specific_types_node, specific_types_edge)))\n",
    "    else:\n",
    "        types_rdd = encoding_rdd.map(lambda x: (x[0], type_generate_R(x[1], level, specific_types_node, specific_types_edge)))\n",
    "    # (file_name, prov_types occurence in the graph)\n",
    "    types_count_rdd = types_rdd.map(lambda x: (x[0], count_prov_types(level,x[1])))\n",
    "    # All prov_types in this collection of graphs\n",
    "    all_types = types_count_rdd.flatMap(lambda x: x[1].keys()).distinct().collect()\n",
    "    # Number of distinct prov_types\n",
    "    types_count = len(all_types)\n",
    "    print(types_count)\n",
    "    # index_map for prov_types, prov_type -> index\n",
    "    index_map = {all_types[i]: i for i in range(types_count)}\n",
    "    # index -> prov_type\n",
    "    # Contruct feature vectors for each graph\n",
    "    sparse_matrix_rdd = types_count_rdd.map(lambda x: (x[0], sparse_matrix(x[1], types_count, index_map)))\n",
    "    feature_vector_rdd = sparse_matrix_rdd.map(lambda x: (x[0],Vectors.dense(x[1])))\n",
    "    df_features = spark.createDataFrame(feature_vector_rdd).withColumnRenamed(\"_1\", \"file\").withColumnRenamed(\"_2\", \"features\")\n",
    "    # Standardize features\n",
    "    scaler = StandardScaler(inputCol=\"features\", outputCol=\"scaledFeatures\")\n",
    "    scaler_model = scaler.fit(df_features)\n",
    "    df_features = scaler_model.transform(df_features)\n",
    "    # Change the labels\n",
    "    df_labels = spark.read.csv(label_csv, header=True)\n",
    "    df_labels = df_labels.replace(label_map, subset=[\"label\"])\n",
    "    l = list(label_map.values())\n",
    "    df_labels = df_labels.where(df_labels.label.isin(l))\n",
    "    df_labels = df_labels.withColumn(\"label\", df_labels[\"label\"].cast(DoubleType()))\n",
    "    # Join the features and labels\n",
    "    df = df_features.join(df_labels, df_features.file == df_labels.graph_file).select(df_features.scaledFeatures, df_labels.label).withColumnRenamed(\"scaledFeatures\", \"features\")\n",
    "    # Oversample the training data\n",
    "    labels = [float(x) for x in label_map.values()]\n",
    "    count = {}\n",
    "    for x in labels:\n",
    "        count[x] = df.filter(df['label'] == x).count()\n",
    "    maxValue = max(count.values())\n",
    "    print(maxValue)\n",
    "    ratio = {}\n",
    "    for x in labels:\n",
    "        ratio[x] = maxValue/count[x]\n",
    "    dataframes = []\n",
    "    for x in labels:\n",
    "        if(count[x] == maxValue):\n",
    "            dataframes.append(df.filter(df['label'] == x))\n",
    "        else:\n",
    "            dataframes.append(df.filter(df['label'] == x).sample(withReplacement=True, fraction=ratio[x]))\n",
    "    train = dataframes[0]\n",
    "    for dataframe in dataframes[1:]:\n",
    "        train = train.union(dataframe)\n",
    "    \n",
    "    result = []\n",
    "\n",
    "\n",
    "\n",
    "    start = time.time()\n",
    "    rf = RandomForestClassifier(labelCol=\"label\", featuresCol=\"features\")\n",
    "\n",
    "    pipeline = Pipeline(stages=[rf])\n",
    "    paramGrid = ParamGridBuilder().addGrid(rf.numTrees, [5,10,20,30]).addGrid(rf.maxDepth, [4,5,6]).build()\n",
    "    # train the model and select the best model using \"metricName\"(hyperparameter tuning)\n",
    "    crossval = CrossValidator(\n",
    "        estimator=pipeline, \n",
    "        estimatorParamMaps=paramGrid, \n",
    "        evaluator=MulticlassClassificationEvaluator(metricName=\"accuracy\"), \n",
    "        numFolds=10,\n",
    "        collectSubModels=True)\n",
    "    cvModel = crossval.fit(train)\n",
    "    end = time.time()\n",
    "    result.append(max(cvModel.avgMetrics))\n",
    "    result.append(end-start)\n",
    "    print(list(zip(cvModel.avgMetrics, paramGrid)))\n",
    "    print(end-start)\n",
    "\n",
    "    start = time.time()\n",
    "    lr = LogisticRegression(labelCol=\"label\", featuresCol=\"features\")\n",
    "    pipeline = Pipeline(stages=[lr])\n",
    "    paramGrid = ParamGridBuilder().addGrid(lr.maxIter, [5,10]).addGrid(lr.regParam, [0.2,0.3,0.4]).addGrid(lr.elasticNetParam, [0.6,0.7,0.8]).build()\n",
    "    # train the model and select the best model using \"metricName\"(hyperparameter tuning)\n",
    "    crossval = CrossValidator(\n",
    "        estimator=pipeline,\n",
    "        estimatorParamMaps=paramGrid,\n",
    "        evaluator=MulticlassClassificationEvaluator(metricName=\"accuracy\"),\n",
    "        numFolds=10,\n",
    "        collectSubModels=True)\n",
    "    cvModel = crossval.fit(train)\n",
    "    end = time.time()\n",
    "    print(end-start)\n",
    "    result.append(max(cvModel.avgMetrics))\n",
    "    result.append(end-start)\n",
    "    print(list(zip(cvModel.avgMetrics, paramGrid)))\n",
    "    print(result)\n",
    "    "
   ]
  },
  {
   "cell_type": "code",
   "execution_count": 4,
   "metadata": {},
   "outputs": [],
   "source": [
    "json_folder = \"/Users/cuiyeshuai/Documents/UG modules/Individual Project/provenance-kernel-evaluation-master/datasets/PG-D/*.json\"\n",
    "label_csv = \"/Users/cuiyeshuai/Documents/UG modules/Individual Project/provenance-kernel-evaluation-master/datasets/PG-D/graphs.csv\"\n",
    "label_map = {\n",
    "    \"Valor\": \"0.0\",\n",
    "    \"Instinct\": \"1.0\",\n",
    "    \"Mystic\": \"2.0\"\n",
    "}"
   ]
  },
  {
   "cell_type": "code",
   "execution_count": 5,
   "metadata": {},
   "outputs": [
    {
     "name": "stderr",
     "output_type": "stream",
     "text": [
      "                                                                                \r"
     ]
    },
    {
     "name": "stdout",
     "output_type": "stream",
     "text": [
      "8\n"
     ]
    },
    {
     "name": "stderr",
     "output_type": "stream",
     "text": [
      "                                                                                \r"
     ]
    },
    {
     "name": "stdout",
     "output_type": "stream",
     "text": [
      "409\n"
     ]
    },
    {
     "name": "stderr",
     "output_type": "stream",
     "text": [
      "                                                                                \r"
     ]
    },
    {
     "name": "stdout",
     "output_type": "stream",
     "text": [
      "[(0.6120854244870912, {Param(parent='RandomForestClassifier_3578133998ad', name='numTrees', doc='Number of trees to train (>= 1).'): 5, Param(parent='RandomForestClassifier_3578133998ad', name='maxDepth', doc='Maximum depth of the tree. (>= 0) E.g., depth 0 means 1 leaf node; depth 1 means 1 internal node + 2 leaf nodes. Must be in range [0, 30].'): 4}), (0.6172265290429932, {Param(parent='RandomForestClassifier_3578133998ad', name='numTrees', doc='Number of trees to train (>= 1).'): 5, Param(parent='RandomForestClassifier_3578133998ad', name='maxDepth', doc='Maximum depth of the tree. (>= 0) E.g., depth 0 means 1 leaf node; depth 1 means 1 internal node + 2 leaf nodes. Must be in range [0, 30].'): 5}), (0.6358142562825951, {Param(parent='RandomForestClassifier_3578133998ad', name='numTrees', doc='Number of trees to train (>= 1).'): 5, Param(parent='RandomForestClassifier_3578133998ad', name='maxDepth', doc='Maximum depth of the tree. (>= 0) E.g., depth 0 means 1 leaf node; depth 1 means 1 internal node + 2 leaf nodes. Must be in range [0, 30].'): 6}), (0.6084217356550056, {Param(parent='RandomForestClassifier_3578133998ad', name='numTrees', doc='Number of trees to train (>= 1).'): 10, Param(parent='RandomForestClassifier_3578133998ad', name='maxDepth', doc='Maximum depth of the tree. (>= 0) E.g., depth 0 means 1 leaf node; depth 1 means 1 internal node + 2 leaf nodes. Must be in range [0, 30].'): 4}), (0.6166839735485397, {Param(parent='RandomForestClassifier_3578133998ad', name='numTrees', doc='Number of trees to train (>= 1).'): 10, Param(parent='RandomForestClassifier_3578133998ad', name='maxDepth', doc='Maximum depth of the tree. (>= 0) E.g., depth 0 means 1 leaf node; depth 1 means 1 internal node + 2 leaf nodes. Must be in range [0, 30].'): 5}), (0.6420473611339022, {Param(parent='RandomForestClassifier_3578133998ad', name='numTrees', doc='Number of trees to train (>= 1).'): 10, Param(parent='RandomForestClassifier_3578133998ad', name='maxDepth', doc='Maximum depth of the tree. (>= 0) E.g., depth 0 means 1 leaf node; depth 1 means 1 internal node + 2 leaf nodes. Must be in range [0, 30].'): 6}), (0.5970272704231021, {Param(parent='RandomForestClassifier_3578133998ad', name='numTrees', doc='Number of trees to train (>= 1).'): 20, Param(parent='RandomForestClassifier_3578133998ad', name='maxDepth', doc='Maximum depth of the tree. (>= 0) E.g., depth 0 means 1 leaf node; depth 1 means 1 internal node + 2 leaf nodes. Must be in range [0, 30].'): 4}), (0.6130547126524484, {Param(parent='RandomForestClassifier_3578133998ad', name='numTrees', doc='Number of trees to train (>= 1).'): 20, Param(parent='RandomForestClassifier_3578133998ad', name='maxDepth', doc='Maximum depth of the tree. (>= 0) E.g., depth 0 means 1 leaf node; depth 1 means 1 internal node + 2 leaf nodes. Must be in range [0, 30].'): 5}), (0.6446474282822394, {Param(parent='RandomForestClassifier_3578133998ad', name='numTrees', doc='Number of trees to train (>= 1).'): 20, Param(parent='RandomForestClassifier_3578133998ad', name='maxDepth', doc='Maximum depth of the tree. (>= 0) E.g., depth 0 means 1 leaf node; depth 1 means 1 internal node + 2 leaf nodes. Must be in range [0, 30].'): 6}), (0.602068701443736, {Param(parent='RandomForestClassifier_3578133998ad', name='numTrees', doc='Number of trees to train (>= 1).'): 30, Param(parent='RandomForestClassifier_3578133998ad', name='maxDepth', doc='Maximum depth of the tree. (>= 0) E.g., depth 0 means 1 leaf node; depth 1 means 1 internal node + 2 leaf nodes. Must be in range [0, 30].'): 4}), (0.6071171820862727, {Param(parent='RandomForestClassifier_3578133998ad', name='numTrees', doc='Number of trees to train (>= 1).'): 30, Param(parent='RandomForestClassifier_3578133998ad', name='maxDepth', doc='Maximum depth of the tree. (>= 0) E.g., depth 0 means 1 leaf node; depth 1 means 1 internal node + 2 leaf nodes. Must be in range [0, 30].'): 5}), (0.6355508179901036, {Param(parent='RandomForestClassifier_3578133998ad', name='numTrees', doc='Number of trees to train (>= 1).'): 30, Param(parent='RandomForestClassifier_3578133998ad', name='maxDepth', doc='Maximum depth of the tree. (>= 0) E.g., depth 0 means 1 leaf node; depth 1 means 1 internal node + 2 leaf nodes. Must be in range [0, 30].'): 6})]\n",
      "57.24963998794556\n"
     ]
    },
    {
     "name": "stderr",
     "output_type": "stream",
     "text": [
      "22/04/06 21:59:28 WARN InstanceBuilder$NativeBLAS: Failed to load implementation from:dev.ludovic.netlib.blas.JNIBLAS\n",
      "22/04/06 21:59:28 WARN InstanceBuilder$NativeBLAS: Failed to load implementation from:dev.ludovic.netlib.blas.ForeignLinkerBLAS\n"
     ]
    },
    {
     "name": "stdout",
     "output_type": "stream",
     "text": [
      "81.15801095962524\n",
      "[(0.5945858852653709, {Param(parent='LogisticRegression_c16b3cc232e7', name='maxIter', doc='max number of iterations (>= 0).'): 5, Param(parent='LogisticRegression_c16b3cc232e7', name='regParam', doc='regularization parameter (>= 0).'): 0.2, Param(parent='LogisticRegression_c16b3cc232e7', name='elasticNetParam', doc='the ElasticNet mixing parameter, in range [0, 1]. For alpha = 0, the penalty is an L2 penalty. For alpha = 1, it is an L1 penalty.'): 0.6}), (0.5945858852653709, {Param(parent='LogisticRegression_c16b3cc232e7', name='maxIter', doc='max number of iterations (>= 0).'): 5, Param(parent='LogisticRegression_c16b3cc232e7', name='regParam', doc='regularization parameter (>= 0).'): 0.2, Param(parent='LogisticRegression_c16b3cc232e7', name='elasticNetParam', doc='the ElasticNet mixing parameter, in range [0, 1]. For alpha = 0, the penalty is an L2 penalty. For alpha = 1, it is an L1 penalty.'): 0.7}), (0.5945858852653709, {Param(parent='LogisticRegression_c16b3cc232e7', name='maxIter', doc='max number of iterations (>= 0).'): 5, Param(parent='LogisticRegression_c16b3cc232e7', name='regParam', doc='regularization parameter (>= 0).'): 0.2, Param(parent='LogisticRegression_c16b3cc232e7', name='elasticNetParam', doc='the ElasticNet mixing parameter, in range [0, 1]. For alpha = 0, the penalty is an L2 penalty. For alpha = 1, it is an L1 penalty.'): 0.8}), (0.443100190008224, {Param(parent='LogisticRegression_c16b3cc232e7', name='maxIter', doc='max number of iterations (>= 0).'): 5, Param(parent='LogisticRegression_c16b3cc232e7', name='regParam', doc='regularization parameter (>= 0).'): 0.3, Param(parent='LogisticRegression_c16b3cc232e7', name='elasticNetParam', doc='the ElasticNet mixing parameter, in range [0, 1]. For alpha = 0, the penalty is an L2 penalty. For alpha = 1, it is an L1 penalty.'): 0.6}), (0.3659588046118669, {Param(parent='LogisticRegression_c16b3cc232e7', name='maxIter', doc='max number of iterations (>= 0).'): 5, Param(parent='LogisticRegression_c16b3cc232e7', name='regParam', doc='regularization parameter (>= 0).'): 0.3, Param(parent='LogisticRegression_c16b3cc232e7', name='elasticNetParam', doc='the ElasticNet mixing parameter, in range [0, 1]. For alpha = 0, the penalty is an L2 penalty. For alpha = 1, it is an L1 penalty.'): 0.7}), (0.3659588046118669, {Param(parent='LogisticRegression_c16b3cc232e7', name='maxIter', doc='max number of iterations (>= 0).'): 5, Param(parent='LogisticRegression_c16b3cc232e7', name='regParam', doc='regularization parameter (>= 0).'): 0.3, Param(parent='LogisticRegression_c16b3cc232e7', name='elasticNetParam', doc='the ElasticNet mixing parameter, in range [0, 1]. For alpha = 0, the penalty is an L2 penalty. For alpha = 1, it is an L1 penalty.'): 0.8}), (0.3659588046118669, {Param(parent='LogisticRegression_c16b3cc232e7', name='maxIter', doc='max number of iterations (>= 0).'): 5, Param(parent='LogisticRegression_c16b3cc232e7', name='regParam', doc='regularization parameter (>= 0).'): 0.4, Param(parent='LogisticRegression_c16b3cc232e7', name='elasticNetParam', doc='the ElasticNet mixing parameter, in range [0, 1]. For alpha = 0, the penalty is an L2 penalty. For alpha = 1, it is an L1 penalty.'): 0.6}), (0.3659588046118669, {Param(parent='LogisticRegression_c16b3cc232e7', name='maxIter', doc='max number of iterations (>= 0).'): 5, Param(parent='LogisticRegression_c16b3cc232e7', name='regParam', doc='regularization parameter (>= 0).'): 0.4, Param(parent='LogisticRegression_c16b3cc232e7', name='elasticNetParam', doc='the ElasticNet mixing parameter, in range [0, 1]. For alpha = 0, the penalty is an L2 penalty. For alpha = 1, it is an L1 penalty.'): 0.7}), (0.3659588046118669, {Param(parent='LogisticRegression_c16b3cc232e7', name='maxIter', doc='max number of iterations (>= 0).'): 5, Param(parent='LogisticRegression_c16b3cc232e7', name='regParam', doc='regularization parameter (>= 0).'): 0.4, Param(parent='LogisticRegression_c16b3cc232e7', name='elasticNetParam', doc='the ElasticNet mixing parameter, in range [0, 1]. For alpha = 0, the penalty is an L2 penalty. For alpha = 1, it is an L1 penalty.'): 0.8}), (0.5945858852653709, {Param(parent='LogisticRegression_c16b3cc232e7', name='maxIter', doc='max number of iterations (>= 0).'): 10, Param(parent='LogisticRegression_c16b3cc232e7', name='regParam', doc='regularization parameter (>= 0).'): 0.2, Param(parent='LogisticRegression_c16b3cc232e7', name='elasticNetParam', doc='the ElasticNet mixing parameter, in range [0, 1]. For alpha = 0, the penalty is an L2 penalty. For alpha = 1, it is an L1 penalty.'): 0.6}), (0.5945858852653709, {Param(parent='LogisticRegression_c16b3cc232e7', name='maxIter', doc='max number of iterations (>= 0).'): 10, Param(parent='LogisticRegression_c16b3cc232e7', name='regParam', doc='regularization parameter (>= 0).'): 0.2, Param(parent='LogisticRegression_c16b3cc232e7', name='elasticNetParam', doc='the ElasticNet mixing parameter, in range [0, 1]. For alpha = 0, the penalty is an L2 penalty. For alpha = 1, it is an L1 penalty.'): 0.7}), (0.5945858852653709, {Param(parent='LogisticRegression_c16b3cc232e7', name='maxIter', doc='max number of iterations (>= 0).'): 10, Param(parent='LogisticRegression_c16b3cc232e7', name='regParam', doc='regularization parameter (>= 0).'): 0.2, Param(parent='LogisticRegression_c16b3cc232e7', name='elasticNetParam', doc='the ElasticNet mixing parameter, in range [0, 1]. For alpha = 0, the penalty is an L2 penalty. For alpha = 1, it is an L1 penalty.'): 0.8}), (0.46868158535706117, {Param(parent='LogisticRegression_c16b3cc232e7', name='maxIter', doc='max number of iterations (>= 0).'): 10, Param(parent='LogisticRegression_c16b3cc232e7', name='regParam', doc='regularization parameter (>= 0).'): 0.3, Param(parent='LogisticRegression_c16b3cc232e7', name='elasticNetParam', doc='the ElasticNet mixing parameter, in range [0, 1]. For alpha = 0, the penalty is an L2 penalty. For alpha = 1, it is an L1 penalty.'): 0.6}), (0.3659588046118669, {Param(parent='LogisticRegression_c16b3cc232e7', name='maxIter', doc='max number of iterations (>= 0).'): 10, Param(parent='LogisticRegression_c16b3cc232e7', name='regParam', doc='regularization parameter (>= 0).'): 0.3, Param(parent='LogisticRegression_c16b3cc232e7', name='elasticNetParam', doc='the ElasticNet mixing parameter, in range [0, 1]. For alpha = 0, the penalty is an L2 penalty. For alpha = 1, it is an L1 penalty.'): 0.7}), (0.3659588046118669, {Param(parent='LogisticRegression_c16b3cc232e7', name='maxIter', doc='max number of iterations (>= 0).'): 10, Param(parent='LogisticRegression_c16b3cc232e7', name='regParam', doc='regularization parameter (>= 0).'): 0.3, Param(parent='LogisticRegression_c16b3cc232e7', name='elasticNetParam', doc='the ElasticNet mixing parameter, in range [0, 1]. For alpha = 0, the penalty is an L2 penalty. For alpha = 1, it is an L1 penalty.'): 0.8}), (0.3659588046118669, {Param(parent='LogisticRegression_c16b3cc232e7', name='maxIter', doc='max number of iterations (>= 0).'): 10, Param(parent='LogisticRegression_c16b3cc232e7', name='regParam', doc='regularization parameter (>= 0).'): 0.4, Param(parent='LogisticRegression_c16b3cc232e7', name='elasticNetParam', doc='the ElasticNet mixing parameter, in range [0, 1]. For alpha = 0, the penalty is an L2 penalty. For alpha = 1, it is an L1 penalty.'): 0.6}), (0.3659588046118669, {Param(parent='LogisticRegression_c16b3cc232e7', name='maxIter', doc='max number of iterations (>= 0).'): 10, Param(parent='LogisticRegression_c16b3cc232e7', name='regParam', doc='regularization parameter (>= 0).'): 0.4, Param(parent='LogisticRegression_c16b3cc232e7', name='elasticNetParam', doc='the ElasticNet mixing parameter, in range [0, 1]. For alpha = 0, the penalty is an L2 penalty. For alpha = 1, it is an L1 penalty.'): 0.7}), (0.3659588046118669, {Param(parent='LogisticRegression_c16b3cc232e7', name='maxIter', doc='max number of iterations (>= 0).'): 10, Param(parent='LogisticRegression_c16b3cc232e7', name='regParam', doc='regularization parameter (>= 0).'): 0.4, Param(parent='LogisticRegression_c16b3cc232e7', name='elasticNetParam', doc='the ElasticNet mixing parameter, in range [0, 1]. For alpha = 0, the penalty is an L2 penalty. For alpha = 1, it is an L1 penalty.'): 0.8})]\n",
      "[0.6446474282822394, 57.24963998794556, 0.5945858852653709, 81.15801095962524]\n"
     ]
    }
   ],
   "source": [
    "specific_types_edge = True\n",
    "specific_types_node = True\n",
    "level = 0\n",
    "giao()"
   ]
  },
  {
   "cell_type": "code",
   "execution_count": 6,
   "metadata": {},
   "outputs": [
    {
     "name": "stdout",
     "output_type": "stream",
     "text": [
      "8\n",
      "409\n"
     ]
    },
    {
     "name": "stderr",
     "output_type": "stream",
     "text": [
      "                                                                                \r"
     ]
    },
    {
     "name": "stdout",
     "output_type": "stream",
     "text": [
      "[(0.6060440028537333, {Param(parent='RandomForestClassifier_4a63d1f787a3', name='numTrees', doc='Number of trees to train (>= 1).'): 5, Param(parent='RandomForestClassifier_4a63d1f787a3', name='maxDepth', doc='Maximum depth of the tree. (>= 0) E.g., depth 0 means 1 leaf node; depth 1 means 1 internal node + 2 leaf nodes. Must be in range [0, 30].'): 4}), (0.6167977561845926, {Param(parent='RandomForestClassifier_4a63d1f787a3', name='numTrees', doc='Number of trees to train (>= 1).'): 5, Param(parent='RandomForestClassifier_4a63d1f787a3', name='maxDepth', doc='Maximum depth of the tree. (>= 0) E.g., depth 0 means 1 leaf node; depth 1 means 1 internal node + 2 leaf nodes. Must be in range [0, 30].'): 5}), (0.6141445481095009, {Param(parent='RandomForestClassifier_4a63d1f787a3', name='numTrees', doc='Number of trees to train (>= 1).'): 5, Param(parent='RandomForestClassifier_4a63d1f787a3', name='maxDepth', doc='Maximum depth of the tree. (>= 0) E.g., depth 0 means 1 leaf node; depth 1 means 1 internal node + 2 leaf nodes. Must be in range [0, 30].'): 6}), (0.5966590213751864, {Param(parent='RandomForestClassifier_4a63d1f787a3', name='numTrees', doc='Number of trees to train (>= 1).'): 10, Param(parent='RandomForestClassifier_4a63d1f787a3', name='maxDepth', doc='Maximum depth of the tree. (>= 0) E.g., depth 0 means 1 leaf node; depth 1 means 1 internal node + 2 leaf nodes. Must be in range [0, 30].'): 4}), (0.5984958227998799, {Param(parent='RandomForestClassifier_4a63d1f787a3', name='numTrees', doc='Number of trees to train (>= 1).'): 10, Param(parent='RandomForestClassifier_4a63d1f787a3', name='maxDepth', doc='Maximum depth of the tree. (>= 0) E.g., depth 0 means 1 leaf node; depth 1 means 1 internal node + 2 leaf nodes. Must be in range [0, 30].'): 5}), (0.6318225692021484, {Param(parent='RandomForestClassifier_4a63d1f787a3', name='numTrees', doc='Number of trees to train (>= 1).'): 10, Param(parent='RandomForestClassifier_4a63d1f787a3', name='maxDepth', doc='Maximum depth of the tree. (>= 0) E.g., depth 0 means 1 leaf node; depth 1 means 1 internal node + 2 leaf nodes. Must be in range [0, 30].'): 6}), (0.6187856149294783, {Param(parent='RandomForestClassifier_4a63d1f787a3', name='numTrees', doc='Number of trees to train (>= 1).'): 20, Param(parent='RandomForestClassifier_4a63d1f787a3', name='maxDepth', doc='Maximum depth of the tree. (>= 0) E.g., depth 0 means 1 leaf node; depth 1 means 1 internal node + 2 leaf nodes. Must be in range [0, 30].'): 4}), (0.626653774539243, {Param(parent='RandomForestClassifier_4a63d1f787a3', name='numTrees', doc='Number of trees to train (>= 1).'): 20, Param(parent='RandomForestClassifier_4a63d1f787a3', name='maxDepth', doc='Maximum depth of the tree. (>= 0) E.g., depth 0 means 1 leaf node; depth 1 means 1 internal node + 2 leaf nodes. Must be in range [0, 30].'): 5}), (0.6444475021056495, {Param(parent='RandomForestClassifier_4a63d1f787a3', name='numTrees', doc='Number of trees to train (>= 1).'): 20, Param(parent='RandomForestClassifier_4a63d1f787a3', name='maxDepth', doc='Maximum depth of the tree. (>= 0) E.g., depth 0 means 1 leaf node; depth 1 means 1 internal node + 2 leaf nodes. Must be in range [0, 30].'): 6}), (0.6075541415319006, {Param(parent='RandomForestClassifier_4a63d1f787a3', name='numTrees', doc='Number of trees to train (>= 1).'): 30, Param(parent='RandomForestClassifier_4a63d1f787a3', name='maxDepth', doc='Maximum depth of the tree. (>= 0) E.g., depth 0 means 1 leaf node; depth 1 means 1 internal node + 2 leaf nodes. Must be in range [0, 30].'): 4}), (0.6140402855397943, {Param(parent='RandomForestClassifier_4a63d1f787a3', name='numTrees', doc='Number of trees to train (>= 1).'): 30, Param(parent='RandomForestClassifier_4a63d1f787a3', name='maxDepth', doc='Maximum depth of the tree. (>= 0) E.g., depth 0 means 1 leaf node; depth 1 means 1 internal node + 2 leaf nodes. Must be in range [0, 30].'): 5}), (0.6355577442057867, {Param(parent='RandomForestClassifier_4a63d1f787a3', name='numTrees', doc='Number of trees to train (>= 1).'): 30, Param(parent='RandomForestClassifier_4a63d1f787a3', name='maxDepth', doc='Maximum depth of the tree. (>= 0) E.g., depth 0 means 1 leaf node; depth 1 means 1 internal node + 2 leaf nodes. Must be in range [0, 30].'): 6})]\n",
      "48.81955409049988\n",
      "78.79588484764099\n",
      "[(0.531535342576691, {Param(parent='LogisticRegression_3ae70fbbe343', name='maxIter', doc='max number of iterations (>= 0).'): 5, Param(parent='LogisticRegression_3ae70fbbe343', name='regParam', doc='regularization parameter (>= 0).'): 0.2, Param(parent='LogisticRegression_3ae70fbbe343', name='elasticNetParam', doc='the ElasticNet mixing parameter, in range [0, 1]. For alpha = 0, the penalty is an L2 penalty. For alpha = 1, it is an L1 penalty.'): 0.6}), (0.5635242298207429, {Param(parent='LogisticRegression_3ae70fbbe343', name='maxIter', doc='max number of iterations (>= 0).'): 5, Param(parent='LogisticRegression_3ae70fbbe343', name='regParam', doc='regularization parameter (>= 0).'): 0.2, Param(parent='LogisticRegression_3ae70fbbe343', name='elasticNetParam', doc='the ElasticNet mixing parameter, in range [0, 1]. For alpha = 0, the penalty is an L2 penalty. For alpha = 1, it is an L1 penalty.'): 0.7}), (0.577383098225066, {Param(parent='LogisticRegression_3ae70fbbe343', name='maxIter', doc='max number of iterations (>= 0).'): 5, Param(parent='LogisticRegression_3ae70fbbe343', name='regParam', doc='regularization parameter (>= 0).'): 0.2, Param(parent='LogisticRegression_3ae70fbbe343', name='elasticNetParam', doc='the ElasticNet mixing parameter, in range [0, 1]. For alpha = 0, the penalty is an L2 penalty. For alpha = 1, it is an L1 penalty.'): 0.8}), (0.5940803740132508, {Param(parent='LogisticRegression_3ae70fbbe343', name='maxIter', doc='max number of iterations (>= 0).'): 5, Param(parent='LogisticRegression_3ae70fbbe343', name='regParam', doc='regularization parameter (>= 0).'): 0.3, Param(parent='LogisticRegression_3ae70fbbe343', name='elasticNetParam', doc='the ElasticNet mixing parameter, in range [0, 1]. For alpha = 0, the penalty is an L2 penalty. For alpha = 1, it is an L1 penalty.'): 0.6}), (0.5400422867182827, {Param(parent='LogisticRegression_3ae70fbbe343', name='maxIter', doc='max number of iterations (>= 0).'): 5, Param(parent='LogisticRegression_3ae70fbbe343', name='regParam', doc='regularization parameter (>= 0).'): 0.3, Param(parent='LogisticRegression_3ae70fbbe343', name='elasticNetParam', doc='the ElasticNet mixing parameter, in range [0, 1]. For alpha = 0, the penalty is an L2 penalty. For alpha = 1, it is an L1 penalty.'): 0.7}), (0.3509484502718951, {Param(parent='LogisticRegression_3ae70fbbe343', name='maxIter', doc='max number of iterations (>= 0).'): 5, Param(parent='LogisticRegression_3ae70fbbe343', name='regParam', doc='regularization parameter (>= 0).'): 0.3, Param(parent='LogisticRegression_3ae70fbbe343', name='elasticNetParam', doc='the ElasticNet mixing parameter, in range [0, 1]. For alpha = 0, the penalty is an L2 penalty. For alpha = 1, it is an L1 penalty.'): 0.8}), (0.3509484502718951, {Param(parent='LogisticRegression_3ae70fbbe343', name='maxIter', doc='max number of iterations (>= 0).'): 5, Param(parent='LogisticRegression_3ae70fbbe343', name='regParam', doc='regularization parameter (>= 0).'): 0.4, Param(parent='LogisticRegression_3ae70fbbe343', name='elasticNetParam', doc='the ElasticNet mixing parameter, in range [0, 1]. For alpha = 0, the penalty is an L2 penalty. For alpha = 1, it is an L1 penalty.'): 0.6}), (0.3509484502718951, {Param(parent='LogisticRegression_3ae70fbbe343', name='maxIter', doc='max number of iterations (>= 0).'): 5, Param(parent='LogisticRegression_3ae70fbbe343', name='regParam', doc='regularization parameter (>= 0).'): 0.4, Param(parent='LogisticRegression_3ae70fbbe343', name='elasticNetParam', doc='the ElasticNet mixing parameter, in range [0, 1]. For alpha = 0, the penalty is an L2 penalty. For alpha = 1, it is an L1 penalty.'): 0.7}), (0.3509484502718951, {Param(parent='LogisticRegression_3ae70fbbe343', name='maxIter', doc='max number of iterations (>= 0).'): 5, Param(parent='LogisticRegression_3ae70fbbe343', name='regParam', doc='regularization parameter (>= 0).'): 0.4, Param(parent='LogisticRegression_3ae70fbbe343', name='elasticNetParam', doc='the ElasticNet mixing parameter, in range [0, 1]. For alpha = 0, the penalty is an L2 penalty. For alpha = 1, it is an L1 penalty.'): 0.8}), (0.531535342576691, {Param(parent='LogisticRegression_3ae70fbbe343', name='maxIter', doc='max number of iterations (>= 0).'): 10, Param(parent='LogisticRegression_3ae70fbbe343', name='regParam', doc='regularization parameter (>= 0).'): 0.2, Param(parent='LogisticRegression_3ae70fbbe343', name='elasticNetParam', doc='the ElasticNet mixing parameter, in range [0, 1]. For alpha = 0, the penalty is an L2 penalty. For alpha = 1, it is an L1 penalty.'): 0.6}), (0.5565474856346965, {Param(parent='LogisticRegression_3ae70fbbe343', name='maxIter', doc='max number of iterations (>= 0).'): 10, Param(parent='LogisticRegression_3ae70fbbe343', name='regParam', doc='regularization parameter (>= 0).'): 0.2, Param(parent='LogisticRegression_3ae70fbbe343', name='elasticNetParam', doc='the ElasticNet mixing parameter, in range [0, 1]. For alpha = 0, the penalty is an L2 penalty. For alpha = 1, it is an L1 penalty.'): 0.7}), (0.5635242298207429, {Param(parent='LogisticRegression_3ae70fbbe343', name='maxIter', doc='max number of iterations (>= 0).'): 10, Param(parent='LogisticRegression_3ae70fbbe343', name='regParam', doc='regularization parameter (>= 0).'): 0.2, Param(parent='LogisticRegression_3ae70fbbe343', name='elasticNetParam', doc='the ElasticNet mixing parameter, in range [0, 1]. For alpha = 0, the penalty is an L2 penalty. For alpha = 1, it is an L1 penalty.'): 0.8}), (0.5940803740132508, {Param(parent='LogisticRegression_3ae70fbbe343', name='maxIter', doc='max number of iterations (>= 0).'): 10, Param(parent='LogisticRegression_3ae70fbbe343', name='regParam', doc='regularization parameter (>= 0).'): 0.3, Param(parent='LogisticRegression_3ae70fbbe343', name='elasticNetParam', doc='the ElasticNet mixing parameter, in range [0, 1]. For alpha = 0, the penalty is an L2 penalty. For alpha = 1, it is an L1 penalty.'): 0.6}), (0.5400422867182827, {Param(parent='LogisticRegression_3ae70fbbe343', name='maxIter', doc='max number of iterations (>= 0).'): 10, Param(parent='LogisticRegression_3ae70fbbe343', name='regParam', doc='regularization parameter (>= 0).'): 0.3, Param(parent='LogisticRegression_3ae70fbbe343', name='elasticNetParam', doc='the ElasticNet mixing parameter, in range [0, 1]. For alpha = 0, the penalty is an L2 penalty. For alpha = 1, it is an L1 penalty.'): 0.7}), (0.3509484502718951, {Param(parent='LogisticRegression_3ae70fbbe343', name='maxIter', doc='max number of iterations (>= 0).'): 10, Param(parent='LogisticRegression_3ae70fbbe343', name='regParam', doc='regularization parameter (>= 0).'): 0.3, Param(parent='LogisticRegression_3ae70fbbe343', name='elasticNetParam', doc='the ElasticNet mixing parameter, in range [0, 1]. For alpha = 0, the penalty is an L2 penalty. For alpha = 1, it is an L1 penalty.'): 0.8}), (0.3509484502718951, {Param(parent='LogisticRegression_3ae70fbbe343', name='maxIter', doc='max number of iterations (>= 0).'): 10, Param(parent='LogisticRegression_3ae70fbbe343', name='regParam', doc='regularization parameter (>= 0).'): 0.4, Param(parent='LogisticRegression_3ae70fbbe343', name='elasticNetParam', doc='the ElasticNet mixing parameter, in range [0, 1]. For alpha = 0, the penalty is an L2 penalty. For alpha = 1, it is an L1 penalty.'): 0.6}), (0.3509484502718951, {Param(parent='LogisticRegression_3ae70fbbe343', name='maxIter', doc='max number of iterations (>= 0).'): 10, Param(parent='LogisticRegression_3ae70fbbe343', name='regParam', doc='regularization parameter (>= 0).'): 0.4, Param(parent='LogisticRegression_3ae70fbbe343', name='elasticNetParam', doc='the ElasticNet mixing parameter, in range [0, 1]. For alpha = 0, the penalty is an L2 penalty. For alpha = 1, it is an L1 penalty.'): 0.7}), (0.3509484502718951, {Param(parent='LogisticRegression_3ae70fbbe343', name='maxIter', doc='max number of iterations (>= 0).'): 10, Param(parent='LogisticRegression_3ae70fbbe343', name='regParam', doc='regularization parameter (>= 0).'): 0.4, Param(parent='LogisticRegression_3ae70fbbe343', name='elasticNetParam', doc='the ElasticNet mixing parameter, in range [0, 1]. For alpha = 0, the penalty is an L2 penalty. For alpha = 1, it is an L1 penalty.'): 0.8})]\n",
      "[0.6444475021056495, 48.81955409049988, 0.5940803740132508, 78.79588484764099]\n"
     ]
    }
   ],
   "source": [
    "specific_types_edge = False\n",
    "specific_types_node = True\n",
    "level = 0\n",
    "giao()"
   ]
  },
  {
   "cell_type": "code",
   "execution_count": 7,
   "metadata": {},
   "outputs": [
    {
     "name": "stdout",
     "output_type": "stream",
     "text": [
      "2\n",
      "409\n"
     ]
    },
    {
     "name": "stderr",
     "output_type": "stream",
     "text": [
      "                                                                                \r"
     ]
    },
    {
     "name": "stdout",
     "output_type": "stream",
     "text": [
      "[(0.4571844861923083, {Param(parent='RandomForestClassifier_b03cc83bf228', name='numTrees', doc='Number of trees to train (>= 1).'): 5, Param(parent='RandomForestClassifier_b03cc83bf228', name='maxDepth', doc='Maximum depth of the tree. (>= 0) E.g., depth 0 means 1 leaf node; depth 1 means 1 internal node + 2 leaf nodes. Must be in range [0, 30].'): 4}), (0.49585280499720197, {Param(parent='RandomForestClassifier_b03cc83bf228', name='numTrees', doc='Number of trees to train (>= 1).'): 5, Param(parent='RandomForestClassifier_b03cc83bf228', name='maxDepth', doc='Maximum depth of the tree. (>= 0) E.g., depth 0 means 1 leaf node; depth 1 means 1 internal node + 2 leaf nodes. Must be in range [0, 30].'): 5}), (0.5051995141789384, {Param(parent='RandomForestClassifier_b03cc83bf228', name='numTrees', doc='Number of trees to train (>= 1).'): 5, Param(parent='RandomForestClassifier_b03cc83bf228', name='maxDepth', doc='Maximum depth of the tree. (>= 0) E.g., depth 0 means 1 leaf node; depth 1 means 1 internal node + 2 leaf nodes. Must be in range [0, 30].'): 6}), (0.46403668677058807, {Param(parent='RandomForestClassifier_b03cc83bf228', name='numTrees', doc='Number of trees to train (>= 1).'): 10, Param(parent='RandomForestClassifier_b03cc83bf228', name='maxDepth', doc='Maximum depth of the tree. (>= 0) E.g., depth 0 means 1 leaf node; depth 1 means 1 internal node + 2 leaf nodes. Must be in range [0, 30].'): 4}), (0.48744124376283526, {Param(parent='RandomForestClassifier_b03cc83bf228', name='numTrees', doc='Number of trees to train (>= 1).'): 10, Param(parent='RandomForestClassifier_b03cc83bf228', name='maxDepth', doc='Maximum depth of the tree. (>= 0) E.g., depth 0 means 1 leaf node; depth 1 means 1 internal node + 2 leaf nodes. Must be in range [0, 30].'): 5}), (0.5179256957245224, {Param(parent='RandomForestClassifier_b03cc83bf228', name='numTrees', doc='Number of trees to train (>= 1).'): 10, Param(parent='RandomForestClassifier_b03cc83bf228', name='maxDepth', doc='Maximum depth of the tree. (>= 0) E.g., depth 0 means 1 leaf node; depth 1 means 1 internal node + 2 leaf nodes. Must be in range [0, 30].'): 6}), (0.47217088103324034, {Param(parent='RandomForestClassifier_b03cc83bf228', name='numTrees', doc='Number of trees to train (>= 1).'): 20, Param(parent='RandomForestClassifier_b03cc83bf228', name='maxDepth', doc='Maximum depth of the tree. (>= 0) E.g., depth 0 means 1 leaf node; depth 1 means 1 internal node + 2 leaf nodes. Must be in range [0, 30].'): 4}), (0.4813115899799557, {Param(parent='RandomForestClassifier_b03cc83bf228', name='numTrees', doc='Number of trees to train (>= 1).'): 20, Param(parent='RandomForestClassifier_b03cc83bf228', name='maxDepth', doc='Maximum depth of the tree. (>= 0) E.g., depth 0 means 1 leaf node; depth 1 means 1 internal node + 2 leaf nodes. Must be in range [0, 30].'): 5}), (0.5139429241409275, {Param(parent='RandomForestClassifier_b03cc83bf228', name='numTrees', doc='Number of trees to train (>= 1).'): 20, Param(parent='RandomForestClassifier_b03cc83bf228', name='maxDepth', doc='Maximum depth of the tree. (>= 0) E.g., depth 0 means 1 leaf node; depth 1 means 1 internal node + 2 leaf nodes. Must be in range [0, 30].'): 6}), (0.4657316813068998, {Param(parent='RandomForestClassifier_b03cc83bf228', name='numTrees', doc='Number of trees to train (>= 1).'): 30, Param(parent='RandomForestClassifier_b03cc83bf228', name='maxDepth', doc='Maximum depth of the tree. (>= 0) E.g., depth 0 means 1 leaf node; depth 1 means 1 internal node + 2 leaf nodes. Must be in range [0, 30].'): 4}), (0.5035234825496995, {Param(parent='RandomForestClassifier_b03cc83bf228', name='numTrees', doc='Number of trees to train (>= 1).'): 30, Param(parent='RandomForestClassifier_b03cc83bf228', name='maxDepth', doc='Maximum depth of the tree. (>= 0) E.g., depth 0 means 1 leaf node; depth 1 means 1 internal node + 2 leaf nodes. Must be in range [0, 30].'): 5}), (0.5214375318962715, {Param(parent='RandomForestClassifier_b03cc83bf228', name='numTrees', doc='Number of trees to train (>= 1).'): 30, Param(parent='RandomForestClassifier_b03cc83bf228', name='maxDepth', doc='Maximum depth of the tree. (>= 0) E.g., depth 0 means 1 leaf node; depth 1 means 1 internal node + 2 leaf nodes. Must be in range [0, 30].'): 6})]\n",
      "47.43671679496765\n",
      "77.76545190811157\n",
      "[(0.345534008829806, {Param(parent='LogisticRegression_f60fbe7a82d8', name='maxIter', doc='max number of iterations (>= 0).'): 5, Param(parent='LogisticRegression_f60fbe7a82d8', name='regParam', doc='regularization parameter (>= 0).'): 0.2, Param(parent='LogisticRegression_f60fbe7a82d8', name='elasticNetParam', doc='the ElasticNet mixing parameter, in range [0, 1]. For alpha = 0, the penalty is an L2 penalty. For alpha = 1, it is an L1 penalty.'): 0.6}), (0.345534008829806, {Param(parent='LogisticRegression_f60fbe7a82d8', name='maxIter', doc='max number of iterations (>= 0).'): 5, Param(parent='LogisticRegression_f60fbe7a82d8', name='regParam', doc='regularization parameter (>= 0).'): 0.2, Param(parent='LogisticRegression_f60fbe7a82d8', name='elasticNetParam', doc='the ElasticNet mixing parameter, in range [0, 1]. For alpha = 0, the penalty is an L2 penalty. For alpha = 1, it is an L1 penalty.'): 0.7}), (0.345534008829806, {Param(parent='LogisticRegression_f60fbe7a82d8', name='maxIter', doc='max number of iterations (>= 0).'): 5, Param(parent='LogisticRegression_f60fbe7a82d8', name='regParam', doc='regularization parameter (>= 0).'): 0.2, Param(parent='LogisticRegression_f60fbe7a82d8', name='elasticNetParam', doc='the ElasticNet mixing parameter, in range [0, 1]. For alpha = 0, the penalty is an L2 penalty. For alpha = 1, it is an L1 penalty.'): 0.8}), (0.345534008829806, {Param(parent='LogisticRegression_f60fbe7a82d8', name='maxIter', doc='max number of iterations (>= 0).'): 5, Param(parent='LogisticRegression_f60fbe7a82d8', name='regParam', doc='regularization parameter (>= 0).'): 0.3, Param(parent='LogisticRegression_f60fbe7a82d8', name='elasticNetParam', doc='the ElasticNet mixing parameter, in range [0, 1]. For alpha = 0, the penalty is an L2 penalty. For alpha = 1, it is an L1 penalty.'): 0.6}), (0.345534008829806, {Param(parent='LogisticRegression_f60fbe7a82d8', name='maxIter', doc='max number of iterations (>= 0).'): 5, Param(parent='LogisticRegression_f60fbe7a82d8', name='regParam', doc='regularization parameter (>= 0).'): 0.3, Param(parent='LogisticRegression_f60fbe7a82d8', name='elasticNetParam', doc='the ElasticNet mixing parameter, in range [0, 1]. For alpha = 0, the penalty is an L2 penalty. For alpha = 1, it is an L1 penalty.'): 0.7}), (0.345534008829806, {Param(parent='LogisticRegression_f60fbe7a82d8', name='maxIter', doc='max number of iterations (>= 0).'): 5, Param(parent='LogisticRegression_f60fbe7a82d8', name='regParam', doc='regularization parameter (>= 0).'): 0.3, Param(parent='LogisticRegression_f60fbe7a82d8', name='elasticNetParam', doc='the ElasticNet mixing parameter, in range [0, 1]. For alpha = 0, the penalty is an L2 penalty. For alpha = 1, it is an L1 penalty.'): 0.8}), (0.345534008829806, {Param(parent='LogisticRegression_f60fbe7a82d8', name='maxIter', doc='max number of iterations (>= 0).'): 5, Param(parent='LogisticRegression_f60fbe7a82d8', name='regParam', doc='regularization parameter (>= 0).'): 0.4, Param(parent='LogisticRegression_f60fbe7a82d8', name='elasticNetParam', doc='the ElasticNet mixing parameter, in range [0, 1]. For alpha = 0, the penalty is an L2 penalty. For alpha = 1, it is an L1 penalty.'): 0.6}), (0.345534008829806, {Param(parent='LogisticRegression_f60fbe7a82d8', name='maxIter', doc='max number of iterations (>= 0).'): 5, Param(parent='LogisticRegression_f60fbe7a82d8', name='regParam', doc='regularization parameter (>= 0).'): 0.4, Param(parent='LogisticRegression_f60fbe7a82d8', name='elasticNetParam', doc='the ElasticNet mixing parameter, in range [0, 1]. For alpha = 0, the penalty is an L2 penalty. For alpha = 1, it is an L1 penalty.'): 0.7}), (0.345534008829806, {Param(parent='LogisticRegression_f60fbe7a82d8', name='maxIter', doc='max number of iterations (>= 0).'): 5, Param(parent='LogisticRegression_f60fbe7a82d8', name='regParam', doc='regularization parameter (>= 0).'): 0.4, Param(parent='LogisticRegression_f60fbe7a82d8', name='elasticNetParam', doc='the ElasticNet mixing parameter, in range [0, 1]. For alpha = 0, the penalty is an L2 penalty. For alpha = 1, it is an L1 penalty.'): 0.8}), (0.345534008829806, {Param(parent='LogisticRegression_f60fbe7a82d8', name='maxIter', doc='max number of iterations (>= 0).'): 10, Param(parent='LogisticRegression_f60fbe7a82d8', name='regParam', doc='regularization parameter (>= 0).'): 0.2, Param(parent='LogisticRegression_f60fbe7a82d8', name='elasticNetParam', doc='the ElasticNet mixing parameter, in range [0, 1]. For alpha = 0, the penalty is an L2 penalty. For alpha = 1, it is an L1 penalty.'): 0.6}), (0.345534008829806, {Param(parent='LogisticRegression_f60fbe7a82d8', name='maxIter', doc='max number of iterations (>= 0).'): 10, Param(parent='LogisticRegression_f60fbe7a82d8', name='regParam', doc='regularization parameter (>= 0).'): 0.2, Param(parent='LogisticRegression_f60fbe7a82d8', name='elasticNetParam', doc='the ElasticNet mixing parameter, in range [0, 1]. For alpha = 0, the penalty is an L2 penalty. For alpha = 1, it is an L1 penalty.'): 0.7}), (0.345534008829806, {Param(parent='LogisticRegression_f60fbe7a82d8', name='maxIter', doc='max number of iterations (>= 0).'): 10, Param(parent='LogisticRegression_f60fbe7a82d8', name='regParam', doc='regularization parameter (>= 0).'): 0.2, Param(parent='LogisticRegression_f60fbe7a82d8', name='elasticNetParam', doc='the ElasticNet mixing parameter, in range [0, 1]. For alpha = 0, the penalty is an L2 penalty. For alpha = 1, it is an L1 penalty.'): 0.8}), (0.345534008829806, {Param(parent='LogisticRegression_f60fbe7a82d8', name='maxIter', doc='max number of iterations (>= 0).'): 10, Param(parent='LogisticRegression_f60fbe7a82d8', name='regParam', doc='regularization parameter (>= 0).'): 0.3, Param(parent='LogisticRegression_f60fbe7a82d8', name='elasticNetParam', doc='the ElasticNet mixing parameter, in range [0, 1]. For alpha = 0, the penalty is an L2 penalty. For alpha = 1, it is an L1 penalty.'): 0.6}), (0.345534008829806, {Param(parent='LogisticRegression_f60fbe7a82d8', name='maxIter', doc='max number of iterations (>= 0).'): 10, Param(parent='LogisticRegression_f60fbe7a82d8', name='regParam', doc='regularization parameter (>= 0).'): 0.3, Param(parent='LogisticRegression_f60fbe7a82d8', name='elasticNetParam', doc='the ElasticNet mixing parameter, in range [0, 1]. For alpha = 0, the penalty is an L2 penalty. For alpha = 1, it is an L1 penalty.'): 0.7}), (0.345534008829806, {Param(parent='LogisticRegression_f60fbe7a82d8', name='maxIter', doc='max number of iterations (>= 0).'): 10, Param(parent='LogisticRegression_f60fbe7a82d8', name='regParam', doc='regularization parameter (>= 0).'): 0.3, Param(parent='LogisticRegression_f60fbe7a82d8', name='elasticNetParam', doc='the ElasticNet mixing parameter, in range [0, 1]. For alpha = 0, the penalty is an L2 penalty. For alpha = 1, it is an L1 penalty.'): 0.8}), (0.345534008829806, {Param(parent='LogisticRegression_f60fbe7a82d8', name='maxIter', doc='max number of iterations (>= 0).'): 10, Param(parent='LogisticRegression_f60fbe7a82d8', name='regParam', doc='regularization parameter (>= 0).'): 0.4, Param(parent='LogisticRegression_f60fbe7a82d8', name='elasticNetParam', doc='the ElasticNet mixing parameter, in range [0, 1]. For alpha = 0, the penalty is an L2 penalty. For alpha = 1, it is an L1 penalty.'): 0.6}), (0.345534008829806, {Param(parent='LogisticRegression_f60fbe7a82d8', name='maxIter', doc='max number of iterations (>= 0).'): 10, Param(parent='LogisticRegression_f60fbe7a82d8', name='regParam', doc='regularization parameter (>= 0).'): 0.4, Param(parent='LogisticRegression_f60fbe7a82d8', name='elasticNetParam', doc='the ElasticNet mixing parameter, in range [0, 1]. For alpha = 0, the penalty is an L2 penalty. For alpha = 1, it is an L1 penalty.'): 0.7}), (0.345534008829806, {Param(parent='LogisticRegression_f60fbe7a82d8', name='maxIter', doc='max number of iterations (>= 0).'): 10, Param(parent='LogisticRegression_f60fbe7a82d8', name='regParam', doc='regularization parameter (>= 0).'): 0.4, Param(parent='LogisticRegression_f60fbe7a82d8', name='elasticNetParam', doc='the ElasticNet mixing parameter, in range [0, 1]. For alpha = 0, the penalty is an L2 penalty. For alpha = 1, it is an L1 penalty.'): 0.8})]\n",
      "[0.5214375318962715, 47.43671679496765, 0.345534008829806, 77.76545190811157]\n"
     ]
    }
   ],
   "source": [
    "specific_types_edge = True\n",
    "specific_types_node = False\n",
    "level = 0\n",
    "giao()"
   ]
  },
  {
   "cell_type": "code",
   "execution_count": 8,
   "metadata": {},
   "outputs": [
    {
     "name": "stdout",
     "output_type": "stream",
     "text": [
      "2\n",
      "409\n"
     ]
    },
    {
     "name": "stderr",
     "output_type": "stream",
     "text": [
      "                                                                                \r"
     ]
    },
    {
     "name": "stdout",
     "output_type": "stream",
     "text": [
      "[(0.4560399480234429, {Param(parent='RandomForestClassifier_5ac023920b02', name='numTrees', doc='Number of trees to train (>= 1).'): 5, Param(parent='RandomForestClassifier_5ac023920b02', name='maxDepth', doc='Maximum depth of the tree. (>= 0) E.g., depth 0 means 1 leaf node; depth 1 means 1 internal node + 2 leaf nodes. Must be in range [0, 30].'): 4}), (0.4918434132208586, {Param(parent='RandomForestClassifier_5ac023920b02', name='numTrees', doc='Number of trees to train (>= 1).'): 5, Param(parent='RandomForestClassifier_5ac023920b02', name='maxDepth', doc='Maximum depth of the tree. (>= 0) E.g., depth 0 means 1 leaf node; depth 1 means 1 internal node + 2 leaf nodes. Must be in range [0, 30].'): 5}), (0.4962124766197132, {Param(parent='RandomForestClassifier_5ac023920b02', name='numTrees', doc='Number of trees to train (>= 1).'): 5, Param(parent='RandomForestClassifier_5ac023920b02', name='maxDepth', doc='Maximum depth of the tree. (>= 0) E.g., depth 0 means 1 leaf node; depth 1 means 1 internal node + 2 leaf nodes. Must be in range [0, 30].'): 6}), (0.4849350641871944, {Param(parent='RandomForestClassifier_5ac023920b02', name='numTrees', doc='Number of trees to train (>= 1).'): 10, Param(parent='RandomForestClassifier_5ac023920b02', name='maxDepth', doc='Maximum depth of the tree. (>= 0) E.g., depth 0 means 1 leaf node; depth 1 means 1 internal node + 2 leaf nodes. Must be in range [0, 30].'): 4}), (0.4890941712938074, {Param(parent='RandomForestClassifier_5ac023920b02', name='numTrees', doc='Number of trees to train (>= 1).'): 10, Param(parent='RandomForestClassifier_5ac023920b02', name='maxDepth', doc='Maximum depth of the tree. (>= 0) E.g., depth 0 means 1 leaf node; depth 1 means 1 internal node + 2 leaf nodes. Must be in range [0, 30].'): 5}), (0.5047152008526105, {Param(parent='RandomForestClassifier_5ac023920b02', name='numTrees', doc='Number of trees to train (>= 1).'): 10, Param(parent='RandomForestClassifier_5ac023920b02', name='maxDepth', doc='Maximum depth of the tree. (>= 0) E.g., depth 0 means 1 leaf node; depth 1 means 1 internal node + 2 leaf nodes. Must be in range [0, 30].'): 6}), (0.46604953101002566, {Param(parent='RandomForestClassifier_5ac023920b02', name='numTrees', doc='Number of trees to train (>= 1).'): 20, Param(parent='RandomForestClassifier_5ac023920b02', name='maxDepth', doc='Maximum depth of the tree. (>= 0) E.g., depth 0 means 1 leaf node; depth 1 means 1 internal node + 2 leaf nodes. Must be in range [0, 30].'): 4}), (0.49360453822977973, {Param(parent='RandomForestClassifier_5ac023920b02', name='numTrees', doc='Number of trees to train (>= 1).'): 20, Param(parent='RandomForestClassifier_5ac023920b02', name='maxDepth', doc='Maximum depth of the tree. (>= 0) E.g., depth 0 means 1 leaf node; depth 1 means 1 internal node + 2 leaf nodes. Must be in range [0, 30].'): 5}), (0.5131078687177113, {Param(parent='RandomForestClassifier_5ac023920b02', name='numTrees', doc='Number of trees to train (>= 1).'): 20, Param(parent='RandomForestClassifier_5ac023920b02', name='maxDepth', doc='Maximum depth of the tree. (>= 0) E.g., depth 0 means 1 leaf node; depth 1 means 1 internal node + 2 leaf nodes. Must be in range [0, 30].'): 6}), (0.47624830952097874, {Param(parent='RandomForestClassifier_5ac023920b02', name='numTrees', doc='Number of trees to train (>= 1).'): 30, Param(parent='RandomForestClassifier_5ac023920b02', name='maxDepth', doc='Maximum depth of the tree. (>= 0) E.g., depth 0 means 1 leaf node; depth 1 means 1 internal node + 2 leaf nodes. Must be in range [0, 30].'): 4}), (0.4910547614139982, {Param(parent='RandomForestClassifier_5ac023920b02', name='numTrees', doc='Number of trees to train (>= 1).'): 30, Param(parent='RandomForestClassifier_5ac023920b02', name='maxDepth', doc='Maximum depth of the tree. (>= 0) E.g., depth 0 means 1 leaf node; depth 1 means 1 internal node + 2 leaf nodes. Must be in range [0, 30].'): 5}), (0.5041412981667411, {Param(parent='RandomForestClassifier_5ac023920b02', name='numTrees', doc='Number of trees to train (>= 1).'): 30, Param(parent='RandomForestClassifier_5ac023920b02', name='maxDepth', doc='Maximum depth of the tree. (>= 0) E.g., depth 0 means 1 leaf node; depth 1 means 1 internal node + 2 leaf nodes. Must be in range [0, 30].'): 6})]\n",
      "45.90959119796753\n"
     ]
    },
    {
     "name": "stderr",
     "output_type": "stream",
     "text": [
      "                                                                                \r"
     ]
    },
    {
     "name": "stdout",
     "output_type": "stream",
     "text": [
      "81.94633722305298\n",
      "[(0.3504391002629231, {Param(parent='LogisticRegression_f5f0119ffc57', name='maxIter', doc='max number of iterations (>= 0).'): 5, Param(parent='LogisticRegression_f5f0119ffc57', name='regParam', doc='regularization parameter (>= 0).'): 0.2, Param(parent='LogisticRegression_f5f0119ffc57', name='elasticNetParam', doc='the ElasticNet mixing parameter, in range [0, 1]. For alpha = 0, the penalty is an L2 penalty. For alpha = 1, it is an L1 penalty.'): 0.6}), (0.3504391002629231, {Param(parent='LogisticRegression_f5f0119ffc57', name='maxIter', doc='max number of iterations (>= 0).'): 5, Param(parent='LogisticRegression_f5f0119ffc57', name='regParam', doc='regularization parameter (>= 0).'): 0.2, Param(parent='LogisticRegression_f5f0119ffc57', name='elasticNetParam', doc='the ElasticNet mixing parameter, in range [0, 1]. For alpha = 0, the penalty is an L2 penalty. For alpha = 1, it is an L1 penalty.'): 0.7}), (0.3504391002629231, {Param(parent='LogisticRegression_f5f0119ffc57', name='maxIter', doc='max number of iterations (>= 0).'): 5, Param(parent='LogisticRegression_f5f0119ffc57', name='regParam', doc='regularization parameter (>= 0).'): 0.2, Param(parent='LogisticRegression_f5f0119ffc57', name='elasticNetParam', doc='the ElasticNet mixing parameter, in range [0, 1]. For alpha = 0, the penalty is an L2 penalty. For alpha = 1, it is an L1 penalty.'): 0.8}), (0.3504391002629231, {Param(parent='LogisticRegression_f5f0119ffc57', name='maxIter', doc='max number of iterations (>= 0).'): 5, Param(parent='LogisticRegression_f5f0119ffc57', name='regParam', doc='regularization parameter (>= 0).'): 0.3, Param(parent='LogisticRegression_f5f0119ffc57', name='elasticNetParam', doc='the ElasticNet mixing parameter, in range [0, 1]. For alpha = 0, the penalty is an L2 penalty. For alpha = 1, it is an L1 penalty.'): 0.6}), (0.3504391002629231, {Param(parent='LogisticRegression_f5f0119ffc57', name='maxIter', doc='max number of iterations (>= 0).'): 5, Param(parent='LogisticRegression_f5f0119ffc57', name='regParam', doc='regularization parameter (>= 0).'): 0.3, Param(parent='LogisticRegression_f5f0119ffc57', name='elasticNetParam', doc='the ElasticNet mixing parameter, in range [0, 1]. For alpha = 0, the penalty is an L2 penalty. For alpha = 1, it is an L1 penalty.'): 0.7}), (0.3504391002629231, {Param(parent='LogisticRegression_f5f0119ffc57', name='maxIter', doc='max number of iterations (>= 0).'): 5, Param(parent='LogisticRegression_f5f0119ffc57', name='regParam', doc='regularization parameter (>= 0).'): 0.3, Param(parent='LogisticRegression_f5f0119ffc57', name='elasticNetParam', doc='the ElasticNet mixing parameter, in range [0, 1]. For alpha = 0, the penalty is an L2 penalty. For alpha = 1, it is an L1 penalty.'): 0.8}), (0.3504391002629231, {Param(parent='LogisticRegression_f5f0119ffc57', name='maxIter', doc='max number of iterations (>= 0).'): 5, Param(parent='LogisticRegression_f5f0119ffc57', name='regParam', doc='regularization parameter (>= 0).'): 0.4, Param(parent='LogisticRegression_f5f0119ffc57', name='elasticNetParam', doc='the ElasticNet mixing parameter, in range [0, 1]. For alpha = 0, the penalty is an L2 penalty. For alpha = 1, it is an L1 penalty.'): 0.6}), (0.3504391002629231, {Param(parent='LogisticRegression_f5f0119ffc57', name='maxIter', doc='max number of iterations (>= 0).'): 5, Param(parent='LogisticRegression_f5f0119ffc57', name='regParam', doc='regularization parameter (>= 0).'): 0.4, Param(parent='LogisticRegression_f5f0119ffc57', name='elasticNetParam', doc='the ElasticNet mixing parameter, in range [0, 1]. For alpha = 0, the penalty is an L2 penalty. For alpha = 1, it is an L1 penalty.'): 0.7}), (0.3504391002629231, {Param(parent='LogisticRegression_f5f0119ffc57', name='maxIter', doc='max number of iterations (>= 0).'): 5, Param(parent='LogisticRegression_f5f0119ffc57', name='regParam', doc='regularization parameter (>= 0).'): 0.4, Param(parent='LogisticRegression_f5f0119ffc57', name='elasticNetParam', doc='the ElasticNet mixing parameter, in range [0, 1]. For alpha = 0, the penalty is an L2 penalty. For alpha = 1, it is an L1 penalty.'): 0.8}), (0.3504391002629231, {Param(parent='LogisticRegression_f5f0119ffc57', name='maxIter', doc='max number of iterations (>= 0).'): 10, Param(parent='LogisticRegression_f5f0119ffc57', name='regParam', doc='regularization parameter (>= 0).'): 0.2, Param(parent='LogisticRegression_f5f0119ffc57', name='elasticNetParam', doc='the ElasticNet mixing parameter, in range [0, 1]. For alpha = 0, the penalty is an L2 penalty. For alpha = 1, it is an L1 penalty.'): 0.6}), (0.3504391002629231, {Param(parent='LogisticRegression_f5f0119ffc57', name='maxIter', doc='max number of iterations (>= 0).'): 10, Param(parent='LogisticRegression_f5f0119ffc57', name='regParam', doc='regularization parameter (>= 0).'): 0.2, Param(parent='LogisticRegression_f5f0119ffc57', name='elasticNetParam', doc='the ElasticNet mixing parameter, in range [0, 1]. For alpha = 0, the penalty is an L2 penalty. For alpha = 1, it is an L1 penalty.'): 0.7}), (0.3504391002629231, {Param(parent='LogisticRegression_f5f0119ffc57', name='maxIter', doc='max number of iterations (>= 0).'): 10, Param(parent='LogisticRegression_f5f0119ffc57', name='regParam', doc='regularization parameter (>= 0).'): 0.2, Param(parent='LogisticRegression_f5f0119ffc57', name='elasticNetParam', doc='the ElasticNet mixing parameter, in range [0, 1]. For alpha = 0, the penalty is an L2 penalty. For alpha = 1, it is an L1 penalty.'): 0.8}), (0.3504391002629231, {Param(parent='LogisticRegression_f5f0119ffc57', name='maxIter', doc='max number of iterations (>= 0).'): 10, Param(parent='LogisticRegression_f5f0119ffc57', name='regParam', doc='regularization parameter (>= 0).'): 0.3, Param(parent='LogisticRegression_f5f0119ffc57', name='elasticNetParam', doc='the ElasticNet mixing parameter, in range [0, 1]. For alpha = 0, the penalty is an L2 penalty. For alpha = 1, it is an L1 penalty.'): 0.6}), (0.3504391002629231, {Param(parent='LogisticRegression_f5f0119ffc57', name='maxIter', doc='max number of iterations (>= 0).'): 10, Param(parent='LogisticRegression_f5f0119ffc57', name='regParam', doc='regularization parameter (>= 0).'): 0.3, Param(parent='LogisticRegression_f5f0119ffc57', name='elasticNetParam', doc='the ElasticNet mixing parameter, in range [0, 1]. For alpha = 0, the penalty is an L2 penalty. For alpha = 1, it is an L1 penalty.'): 0.7}), (0.3504391002629231, {Param(parent='LogisticRegression_f5f0119ffc57', name='maxIter', doc='max number of iterations (>= 0).'): 10, Param(parent='LogisticRegression_f5f0119ffc57', name='regParam', doc='regularization parameter (>= 0).'): 0.3, Param(parent='LogisticRegression_f5f0119ffc57', name='elasticNetParam', doc='the ElasticNet mixing parameter, in range [0, 1]. For alpha = 0, the penalty is an L2 penalty. For alpha = 1, it is an L1 penalty.'): 0.8}), (0.3504391002629231, {Param(parent='LogisticRegression_f5f0119ffc57', name='maxIter', doc='max number of iterations (>= 0).'): 10, Param(parent='LogisticRegression_f5f0119ffc57', name='regParam', doc='regularization parameter (>= 0).'): 0.4, Param(parent='LogisticRegression_f5f0119ffc57', name='elasticNetParam', doc='the ElasticNet mixing parameter, in range [0, 1]. For alpha = 0, the penalty is an L2 penalty. For alpha = 1, it is an L1 penalty.'): 0.6}), (0.3504391002629231, {Param(parent='LogisticRegression_f5f0119ffc57', name='maxIter', doc='max number of iterations (>= 0).'): 10, Param(parent='LogisticRegression_f5f0119ffc57', name='regParam', doc='regularization parameter (>= 0).'): 0.4, Param(parent='LogisticRegression_f5f0119ffc57', name='elasticNetParam', doc='the ElasticNet mixing parameter, in range [0, 1]. For alpha = 0, the penalty is an L2 penalty. For alpha = 1, it is an L1 penalty.'): 0.7}), (0.3504391002629231, {Param(parent='LogisticRegression_f5f0119ffc57', name='maxIter', doc='max number of iterations (>= 0).'): 10, Param(parent='LogisticRegression_f5f0119ffc57', name='regParam', doc='regularization parameter (>= 0).'): 0.4, Param(parent='LogisticRegression_f5f0119ffc57', name='elasticNetParam', doc='the ElasticNet mixing parameter, in range [0, 1]. For alpha = 0, the penalty is an L2 penalty. For alpha = 1, it is an L1 penalty.'): 0.8})]\n",
      "[0.5131078687177113, 45.90959119796753, 0.3504391002629231, 81.94633722305298]\n"
     ]
    }
   ],
   "source": [
    "specific_types_edge = False\n",
    "specific_types_node = False\n",
    "level = 0\n",
    "giao()"
   ]
  }
 ],
 "metadata": {
  "interpreter": {
   "hash": "31f2aee4e71d21fbe5cf8b01ff0e069b9275f58929596ceb00d14d90e3e16cd6"
  },
  "kernelspec": {
   "display_name": "Python 3.8.9 64-bit",
   "language": "python",
   "name": "python3"
  },
  "language_info": {
   "codemirror_mode": {
    "name": "ipython",
    "version": 3
   },
   "file_extension": ".py",
   "mimetype": "text/x-python",
   "name": "python",
   "nbconvert_exporter": "python",
   "pygments_lexer": "ipython3",
   "version": "3.8.9"
  },
  "orig_nbformat": 4
 },
 "nbformat": 4,
 "nbformat_minor": 2
}
